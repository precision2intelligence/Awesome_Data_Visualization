{
 "cells": [
  {
   "cell_type": "markdown",
   "metadata": {},
   "source": [
    "## 使用plotly绘制桑基图\n",
    "### 优点在于：可以修改结点和边的颜色"
   ]
  },
  {
   "cell_type": "markdown",
   "metadata": {},
   "source": [
    "#### 定义节点"
   ]
  },
  {
   "cell_type": "code",
   "execution_count": 1,
   "metadata": {},
   "outputs": [],
   "source": [
    "node1 = dict(\n",
    "      label = [\"原料1\",\"原料2\",\"中间产物1\", \"中间产物2\", \"成果\", \"损耗\"],\n",
    "      color = [\"white\", \"grey\",\"white\", \"grey\", \"white\", \"grey\"],#结点颜色\n",
    "    )"
   ]
  },
  {
   "cell_type": "markdown",
   "metadata": {},
   "source": [
    "#### 定义边"
   ]
  },
  {
   "cell_type": "code",
   "execution_count": 2,
   "metadata": {},
   "outputs": [],
   "source": [
    "link1 = dict(\n",
    "      source = [0,1,1,2,3,3,2],\n",
    "      target = [3,2,3,4,4,5,5],\n",
    "      value = [4,8,2,6,4,2,2],\n",
    "     color = [\"rgba(0,255,0,0.5)\",\"rgba(0,255,0,0.5)\", \"rgba(255,0,0,0.5)\", \"rgba(0,255,0,0.5)\", \"rgba(0,255,0,0.5)\",\"rgba(255,0,0,0.5)\", \"rgba(255,0,0,0.5)\"] \n",
    "        #边的颜色，a代表透明度\n",
    "        #opacity用不了，原因不明\n",
    ")"
   ]
  },
  {
   "cell_type": "code",
   "execution_count": 3,
   "metadata": {},
   "outputs": [
    {
     "data": {
      "text/html": [
       "<script type=\"text/javascript\">window.PlotlyConfig = {MathJaxConfig: 'local'};</script><script type=\"text/javascript\">if (window.MathJax) {MathJax.Hub.Config({SVG: {font: \"STIX-Web\"}});}</script><script>requirejs.config({paths: { 'plotly': ['https://cdn.plot.ly/plotly-latest.min']},});if(!window._Plotly) {require(['plotly'],function(plotly) {window._Plotly=plotly;});}</script>"
      ],
      "text/vnd.plotly.v1+html": [
       "<script type=\"text/javascript\">window.PlotlyConfig = {MathJaxConfig: 'local'};</script><script type=\"text/javascript\">if (window.MathJax) {MathJax.Hub.Config({SVG: {font: \"STIX-Web\"}});}</script><script>requirejs.config({paths: { 'plotly': ['https://cdn.plot.ly/plotly-latest.min']},});if(!window._Plotly) {require(['plotly'],function(plotly) {window._Plotly=plotly;});}</script>"
      ]
     },
     "metadata": {},
     "output_type": "display_data"
    },
    {
     "data": {
      "application/vnd.plotly.v1+json": {
       "config": {
        "linkText": "Export to plot.ly",
        "plotlyServerURL": "https://plot.ly",
        "showLink": false
       },
       "data": [
        {
         "link": {
          "color": [
           "rgba(0,255,0,0.5)",
           "rgba(0,255,0,0.5)",
           "rgba(255,0,0,0.5)",
           "rgba(0,255,0,0.5)",
           "rgba(0,255,0,0.5)",
           "rgba(255,0,0,0.5)",
           "rgba(255,0,0,0.5)"
          ],
          "source": [
           0,
           1,
           1,
           2,
           3,
           3,
           2
          ],
          "target": [
           3,
           2,
           3,
           4,
           4,
           5,
           5
          ],
          "value": [
           4,
           8,
           2,
           6,
           4,
           2,
           2
          ]
         },
         "node": {
          "color": [
           "white",
           "grey",
           "white",
           "grey",
           "white",
           "grey"
          ],
          "label": [
           "原料1",
           "原料2",
           "中间产物1",
           "中间产物2",
           "成果",
           "损耗"
          ]
         },
         "type": "sankey"
        }
       ],
       "layout": {
        "title": "原料转化路径图"
       }
      },
      "text/html": [
       "<div id=\"5c418db3-f62d-49f3-a9c1-c01b3c969c75\" style=\"height: 525px; width: 100%;\" class=\"plotly-graph-div\"></div><script type=\"text/javascript\">require([\"plotly\"], function(Plotly) { window.PLOTLYENV=window.PLOTLYENV || {};window.PLOTLYENV.BASE_URL=\"https://plot.ly\";Plotly.newPlot(\"5c418db3-f62d-49f3-a9c1-c01b3c969c75\", [{\"type\": \"sankey\", \"link\": {\"source\": [0, 1, 1, 2, 3, 3, 2], \"value\": [4, 8, 2, 6, 4, 2, 2], \"target\": [3, 2, 3, 4, 4, 5, 5], \"color\": [\"rgba(0,255,0,0.5)\", \"rgba(0,255,0,0.5)\", \"rgba(255,0,0,0.5)\", \"rgba(0,255,0,0.5)\", \"rgba(0,255,0,0.5)\", \"rgba(255,0,0,0.5)\", \"rgba(255,0,0,0.5)\"]}, \"node\": {\"label\": [\"\\u539f\\u65991\", \"\\u539f\\u65992\", \"\\u4e2d\\u95f4\\u4ea7\\u72691\", \"\\u4e2d\\u95f4\\u4ea7\\u72692\", \"\\u6210\\u679c\", \"\\u635f\\u8017\"], \"color\": [\"white\", \"grey\", \"white\", \"grey\", \"white\", \"grey\"]}}], {\"title\": \"\\u539f\\u6599\\u8f6c\\u5316\\u8def\\u5f84\\u56fe\"}, {\"showLink\": false, \"linkText\": \"Export to plot.ly\", \"plotlyServerURL\": \"https://plot.ly\"})});</script><script type=\"text/javascript\">window.addEventListener(\"resize\", function(){window._Plotly.Plots.resize(document.getElementById(\"5c418db3-f62d-49f3-a9c1-c01b3c969c75\"));});</script>"
      ],
      "text/vnd.plotly.v1+html": [
       "<div id=\"5c418db3-f62d-49f3-a9c1-c01b3c969c75\" style=\"height: 525px; width: 100%;\" class=\"plotly-graph-div\"></div><script type=\"text/javascript\">require([\"plotly\"], function(Plotly) { window.PLOTLYENV=window.PLOTLYENV || {};window.PLOTLYENV.BASE_URL=\"https://plot.ly\";Plotly.newPlot(\"5c418db3-f62d-49f3-a9c1-c01b3c969c75\", [{\"type\": \"sankey\", \"link\": {\"source\": [0, 1, 1, 2, 3, 3, 2], \"value\": [4, 8, 2, 6, 4, 2, 2], \"target\": [3, 2, 3, 4, 4, 5, 5], \"color\": [\"rgba(0,255,0,0.5)\", \"rgba(0,255,0,0.5)\", \"rgba(255,0,0,0.5)\", \"rgba(0,255,0,0.5)\", \"rgba(0,255,0,0.5)\", \"rgba(255,0,0,0.5)\", \"rgba(255,0,0,0.5)\"]}, \"node\": {\"label\": [\"\\u539f\\u65991\", \"\\u539f\\u65992\", \"\\u4e2d\\u95f4\\u4ea7\\u72691\", \"\\u4e2d\\u95f4\\u4ea7\\u72692\", \"\\u6210\\u679c\", \"\\u635f\\u8017\"], \"color\": [\"white\", \"grey\", \"white\", \"grey\", \"white\", \"grey\"]}}], {\"title\": \"\\u539f\\u6599\\u8f6c\\u5316\\u8def\\u5f84\\u56fe\"}, {\"showLink\": false, \"linkText\": \"Export to plot.ly\", \"plotlyServerURL\": \"https://plot.ly\"})});</script><script type=\"text/javascript\">window.addEventListener(\"resize\", function(){window._Plotly.Plots.resize(document.getElementById(\"5c418db3-f62d-49f3-a9c1-c01b3c969c75\"));});</script>"
      ]
     },
     "metadata": {},
     "output_type": "display_data"
    }
   ],
   "source": [
    "import plotly\n",
    "plotly.offline.init_notebook_mode(connected=True)  # 在jupyter book中使用 \n",
    "data = dict(\n",
    "    \n",
    "    type='sankey',    \n",
    "    node=node1,    #node和link是关键字\n",
    "    link=link1, \n",
    ")\n",
    "layout =  dict(title = \"原料转化路径图\")\n",
    "fig = dict(data=[data],layout=layout)     # 注意这里的data被转化为数据，可以支持同时绘制多个图形\n",
    "plotly.offline.iplot(fig, validate=False)"
   ]
  }
 ],
 "metadata": {
  "kernelspec": {
   "display_name": "Python 3",
   "language": "python",
   "name": "python3"
  },
  "language_info": {
   "codemirror_mode": {
    "name": "ipython",
    "version": 3
   },
   "file_extension": ".py",
   "mimetype": "text/x-python",
   "name": "python",
   "nbconvert_exporter": "python",
   "pygments_lexer": "ipython3",
   "version": "3.5.0rc4"
  }
 },
 "nbformat": 4,
 "nbformat_minor": 2
}
